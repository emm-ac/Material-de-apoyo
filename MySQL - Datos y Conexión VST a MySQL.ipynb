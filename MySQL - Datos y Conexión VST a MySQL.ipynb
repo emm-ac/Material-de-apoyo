{
 "cells": [
  {
   "cell_type": "markdown",
   "metadata": {},
   "source": [
    "DESCARGAR ARCHIVO, CONEXIÓN CON MySQL Y COMANDOS"
   ]
  },
  {
   "cell_type": "code",
   "execution_count": null,
   "metadata": {},
   "outputs": [],
   "source": [
    "import pymysql\n",
    "import requests\n",
    "import io"
   ]
  },
  {
   "cell_type": "code",
   "execution_count": null,
   "metadata": {},
   "outputs": [],
   "source": [
    "r = requests.get('https://cdn.buenosaires.gob.ar/datosabiertos/datasets/ente-de-turismo/oferta-establecimientos-gastronomicos/oferta_gastronomica.csv')\n",
    "#r.text\n",
    "#r.encoding\n",
    "\n",
    "df_datos = pd.read_csv(io.StringIO(r.text))\n",
    "df_datos\n",
    "lista_columnas = [tuple(df_locales[columnas].loc[fila]) for fila in range(0,len(df_locales))]\n"
   ]
  },
  {
   "cell_type": "code",
   "execution_count": null,
   "metadata": {},
   "outputs": [],
   "source": [
    "conexion = pymysql.connect(\n",
    "    host = 'localhost',\n",
    "    user = 'root',\n",
    "    password = 'contraseña',\n",
    "    #port = '3306' Pero si es por defecto no debo declararlo.\n",
    "    db = 'locales'\n",
    ")"
   ]
  },
  {
   "cell_type": "markdown",
   "metadata": {},
   "source": [
    "Traer registros"
   ]
  },
  {
   "cell_type": "code",
   "execution_count": null,
   "metadata": {},
   "outputs": [],
   "source": [
    "cursor.execute('SELECT * FROM alumno')\n",
    "\n",
    "alumnos = cursor.fetchall()\n",
    "alumnos = cursor.fetchone() -->Trae el primero\n",
    "alumnos = cursor.fetchmany(5) #-->Trae los primeros 5 registros"
   ]
  },
  {
   "cell_type": "markdown",
   "metadata": {},
   "source": [
    "Insertar registros (hardcodeo)"
   ]
  },
  {
   "cell_type": "code",
   "execution_count": null,
   "metadata": {},
   "outputs": [],
   "source": [
    "cursor.execute('INSERT INTO tabla(columnaA,columnaB) VALUES ('DatoA',DatoB)')\n",
    "conexion.commit() #Es necesario hacerlo para subir los cambios a la base de datos."
   ]
  },
  {
   "cell_type": "code",
   "execution_count": null,
   "metadata": {},
   "outputs": [],
   "source": [
    "cursor = conexion.cursor()\n",
    "cursor.executemany('INSERT INTO locales(Nombre,Categoria,Direccion,Barrio,Comuna) VALUES (%s,%s,%s,%s,%s)', (lista_columnas))\n",
    "conexion.commit()"
   ]
  },
  {
   "cell_type": "markdown",
   "metadata": {},
   "source": [
    "Insertar registros (desde variables)"
   ]
  },
  {
   "cell_type": "code",
   "execution_count": null,
   "metadata": {},
   "outputs": [],
   "source": [
    "nombre = 'Adalberto'\n",
    "edad = 30\n",
    "cursor.executemany('INSERT INTO tabla(columnaA,columnaB) VALUES (%s,%s)', (nombre,edad))\n",
    "conexion.commit()"
   ]
  },
  {
   "cell_type": "markdown",
   "metadata": {},
   "source": [
    "Insertar registros (mayor cantidad)"
   ]
  },
  {
   "cell_type": "code",
   "execution_count": null,
   "metadata": {},
   "outputs": [],
   "source": [
    "personas = [\n",
    "    ('Pablo',22),\n",
    "    ('Roberta',25),\n",
    "    ('Saul',41),]\n",
    "cursor.executemany('INSERT INTO tabla(columnaA,columnaB) VALUES (%s,%s)', personas)\n",
    "conexion.commit()"
   ]
  },
  {
   "cell_type": "markdown",
   "metadata": {},
   "source": [
    "Para cerrar la conexión al salir"
   ]
  },
  {
   "cell_type": "code",
   "execution_count": null,
   "metadata": {},
   "outputs": [],
   "source": [
    "conexion.close()"
   ]
  },
  {
   "cell_type": "markdown",
   "metadata": {},
   "source": [
    "UNA FORMA DE DESCARGAR Y PREPARAR LOS DATOS PARA SUBIR A MYSQL (EFICIENTE Y SIN USAR PANDAS)"
   ]
  },
  {
   "cell_type": "code",
   "execution_count": null,
   "metadata": {},
   "outputs": [],
   "source": [
    "from typing import IO\n",
    "import csv\n",
    "\n",
    "descarga = requests.get('URL')              #descarga del archivo CSV de la web.\n",
    "\n",
    "descarga.encoding= 'utf-8'                  #cambiamos la codificación (tildes, caracteres, etc.).\n",
    "\n",
    "archivo = csv.reader(StringIO(descarga))    #abrimos lo descargado con la librería csv.\n",
    "\n",
    "next(archivo)                               #saltamos la primera línea (tiene los nombres de columna).\n",
    "\n",
    "for fila in archivo:                        #exploramos el archivo.\n",
    "    print(fila)\n",
    "\n",
    "datos = [(linea[3], linea[5],linea[6],linea[10],linea[15][7:]) for linea in archivo]    #armamos las tuplas para importar en MySQL.\n",
    "                                                        #--> línea 15 desde el campo 7 en adelante.\n",
    " \n",
    "#Procedemos con la conexión y subida del archivo.                                                                                                 "
   ]
  },
  {
   "cell_type": "markdown",
   "metadata": {},
   "source": [
    "OTRA FORMA DE DESCARGAR Y PREPARAR LOS DATOS (USANDO PANDAS)"
   ]
  },
  {
   "cell_type": "code",
   "execution_count": null,
   "metadata": {},
   "outputs": [],
   "source": [
    "import pymysql\n",
    "import requests\n",
    "import pandas as pd\n",
    "import io\n",
    "import numpy as np\n",
    "\n",
    "descarga = requests.get('URL')                      #descarga del archivo CSV de la web.\n",
    "\n",
    "descarga.encoding= 'utf-8'                  #cambiamos la codificación (tildes, caracteres, etc.).\n",
    "\n",
    "df_datos = pd.read_csv(io.StringIO(descarga.text))  #creamos un DataFrame a partir del archivo descargado.\n",
    "\n",
    "columnas = ['nombre','categoria','direccion_completa','barrio','comuna']    #Armo lista con las columnas que voy a usar.\n",
    "\n",
    "df_locales = df_datos[columnas]                     #creamos un nuevo DataFrame con las columnas necesarias.\n",
    "\n",
    "df_locales[columnas].isna().sum()                   #verificar si hay valores nulos.\n",
    "df_locales.replace(np.nan, None, inplace=True)      #cambiar los valores nulos por None (MySQL no lee los NaN)\n",
    "\n",
    "lista_columnas = [tuple(df_locales[columnas].loc[fila]) for fila in range(0,len(df_locales))]   #creamos el listado de tuplas.\n",
    "\n",
    "#Procedemos con la conexión y subida del archivo. "
   ]
  }
 ],
 "metadata": {
  "kernelspec": {
   "display_name": "Python 3.10.7 64-bit (microsoft store)",
   "language": "python",
   "name": "python3"
  },
  "language_info": {
   "name": "python",
   "version": "3.10.8"
  },
  "orig_nbformat": 4,
  "vscode": {
   "interpreter": {
    "hash": "8d3a06df2823a66d95fe8f341fd415364609d86e2a97557202419aeb6b2e6f61"
   }
  }
 },
 "nbformat": 4,
 "nbformat_minor": 2
}
