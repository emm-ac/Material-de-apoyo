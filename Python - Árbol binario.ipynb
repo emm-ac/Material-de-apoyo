{
 "cells": [
  {
   "cell_type": "markdown",
   "metadata": {},
   "source": [
    "# Práctica Clase 7"
   ]
  },
  {
   "cell_type": "markdown",
   "metadata": {},
   "source": [
    "1) Diseñar una clase que permita trabajar con un árbol binario y que contenga los métodos:<br>\n",
    "    * insertaVal: para insertar un dato<br>\n",
    "    * buscaVal: que devuelva True o False si existe o no un dato<br>\n",
    "    * verVal: que imprima por pantalla los valores del árbol<br>\n",
    "\n",
    "Nota: Se puede utilizar la recursividad\n"
   ]
  },
  {
   "cell_type": "code",
   "execution_count": 9,
   "metadata": {},
   "outputs": [],
   "source": [
    "class Nodo():\n",
    "    def __init__(self, dato):\n",
    "        self.dato = dato\n",
    "        self.izq = None\n",
    "        self.der = None\n",
    "\n",
    "    def insertVal(self, dato):\n",
    "        if dato < self.dato:\n",
    "            if self.izq == None:\n",
    "                self.izq = Nodo(dato)\n",
    "            else:\n",
    "                self.izq.insertVal(dato)\n",
    "        elif dato > self.dato:\n",
    "            if self.der == None:\n",
    "                self.der = Nodo(dato)\n",
    "            else:\n",
    "                sefl.der.insertVal(dato)\n",
    "        else:\n",
    "            print('Valor repetido')\n",
    "\n",
    "    def buscarVal(self, val_bus):\n",
    "        if val_bus < self.dato:\n",
    "            if self.izq == None:\n",
    "                return False\n",
    "            else:\n",
    "                return self.izq.buscarVal(val_bus)\n",
    "        elif val_bus > self.dato:\n",
    "            if self.der == None:\n",
    "                return False\n",
    "            else:\n",
    "                return self.der.buscarVal(val_bus)\n",
    "        else:\n",
    "            return True\n",
    "\n",
    "    def verVals(self):\n",
    "        if self.izq: self.izq.verVals()\n",
    "        print(self.dato)\n",
    "        if self.der: self.der.verVals()\n",
    "        \n",
    "        \n",
    "        "
   ]
  },
  {
   "cell_type": "code",
   "execution_count": 2,
   "metadata": {},
   "outputs": [],
   "source": [
    "raiz = Nodo(8)\n",
    "raiz.insertVal(3)\n",
    "raiz.insertVal(9)\n",
    "raiz.insertVal(5)\n"
   ]
  },
  {
   "cell_type": "code",
   "execution_count": 10,
   "metadata": {},
   "outputs": [
    {
     "data": {
      "text/plain": [
       "False"
      ]
     },
     "execution_count": 10,
     "metadata": {},
     "output_type": "execute_result"
    }
   ],
   "source": [
    "raiz.buscarVal(10)"
   ]
  },
  {
   "cell_type": "code",
   "execution_count": 11,
   "metadata": {},
   "outputs": [
    {
     "name": "stdout",
     "output_type": "stream",
     "text": [
      "9\n",
      "8\n",
      "5\n",
      "3\n"
     ]
    }
   ],
   "source": [
    "raiz.verVals()"
   ]
  }
 ],
 "metadata": {
  "kernelspec": {
   "display_name": "Python 3.10.7 64-bit (microsoft store)",
   "language": "python",
   "name": "python3"
  },
  "language_info": {
   "codemirror_mode": {
    "name": "ipython",
    "version": 3
   },
   "file_extension": ".py",
   "mimetype": "text/x-python",
   "name": "python",
   "nbconvert_exporter": "python",
   "pygments_lexer": "ipython3",
   "version": "3.10.7"
  },
  "vscode": {
   "interpreter": {
    "hash": "8d3a06df2823a66d95fe8f341fd415364609d86e2a97557202419aeb6b2e6f61"
   }
  }
 },
 "nbformat": 4,
 "nbformat_minor": 4
}
